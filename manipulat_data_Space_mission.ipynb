{
 "cells": [
  {
   "cell_type": "markdown",
   "id": "2055d535-2313-47fd-b050-c49f24200b2e",
   "metadata": {
    "papermill": {
     "duration": 0.042555,
     "end_time": "2020-11-28T23:05:04.998467",
     "exception": false,
     "start_time": "2020-11-28T23:05:04.955912",
     "status": "completed"
    },
    "tags": []
   },
   "source": [
    "\n",
    "<h1><center>Space missions data understanding, visualization and analysis</center></h1>\n",
    "\n",
    "<center><img src=\"https://specials-images.forbesimg.com/imageserve/5ec807d92ce8db0007986fb2/960x0.jpg?fit=scale\"></center>"
   ]
  },
  {
   "cell_type": "markdown",
   "id": "b7a36324-5884-48bc-b2ee-793441467a2d",
   "metadata": {
    "papermill": {
     "duration": 0.039881,
     "end_time": "2020-11-28T23:05:05.078400",
     "exception": false,
     "start_time": "2020-11-28T23:05:05.038519",
     "status": "completed"
    },
    "tags": []
   },
   "source": [
    "## Hello everyone!\n",
    "\n",
    "### In this kernel I am going to manipulat data to use in Power bi report "
   ]
  },
  {
   "cell_type": "code",
   "execution_count": 1,
   "id": "49b000c0-a153-4c9f-a7a8-853efd5dc034",
   "metadata": {},
   "outputs": [],
   "source": [
    "import numpy as np\n",
    "import pandas as pd\n",
    "from datetime import datetime, timedelta\n",
    "from iso3166 import countries"
   ]
  },
  {
   "cell_type": "code",
   "execution_count": 2,
   "id": "c71f88c5-8e80-4591-ae33-ef5e0261ab11",
   "metadata": {},
   "outputs": [],
   "source": [
    "df = pd.read_csv('mission_launches.csv')\n",
    "\n",
    "df.columns = [\n",
    "    'Company Name', \n",
    "    'Location', \n",
    "    'date', \n",
    "    'Detail', \n",
    "    'Status Rocket', \n",
    "    'price', \n",
    "    'Status Mission'\n",
    "]"
   ]
  },
  {
   "cell_type": "code",
   "execution_count": 3,
   "id": "9483cc42-2800-4e3c-93b5-4100c66f88a0",
   "metadata": {},
   "outputs": [],
   "source": [
    "df['price'] = df['price'].astype(np.float64).fillna(0.0)\n",
    "df['price'] = df['price'] * 1000000"
   ]
  },
  {
   "cell_type": "code",
   "execution_count": 4,
   "id": "5da81020-e330-4eac-a8fe-a760f87aebf5",
   "metadata": {},
   "outputs": [],
   "source": [
    "countries_dict = {\n",
    "    'Russia' : 'Russian Federation',\n",
    "    'New Mexico' : 'USA',\n",
    "    \"Yellow Sea\": 'China',\n",
    "    \"Shahrud Missile Test Site\": \"Iran\",\n",
    "    \"Pacific Missile Range Facility\": 'USA',\n",
    "    \"Barents Sea\": 'Russian Federation',\n",
    "    \"Gran Canaria\": 'USA'\n",
    "}\n",
    "\n",
    "df['country'] = df['Location'].str.split(', ').str[-1].replace(countries_dict)\n"
   ]
  },
  {
   "cell_type": "code",
   "execution_count": 5,
   "id": "2c548f09-d6c6-4305-bb04-2e6489e0038f",
   "metadata": {},
   "outputs": [],
   "source": [
    "country_dict = dict()\n",
    "for c in countries:\n",
    "    country_dict[c.name] = c.alpha3\n",
    "    \n",
    "df['alpha3'] = df['country']\n",
    "df = df.replace(\n",
    "    {\n",
    "        \"alpha3\": country_dict\n",
    "    }\n",
    ")\n",
    "df.loc[df['country'] == \"North Korea\", 'alpha3'] = \"PRK\"\n",
    "df.loc[df['country'] == \"South Korea\", 'alpha3'] = \"KOR\""
   ]
  },
  {
   "cell_type": "code",
   "execution_count": 6,
   "id": "34c5ac94-67a4-46d6-8357-9677d0c678c8",
   "metadata": {},
   "outputs": [],
   "source": [
    "df['date'] = pd.to_datetime(df['date'])\n",
    "df['year'] = df['date'].apply(lambda datetime: datetime.year)\n",
    "df['month'] = df['date'].apply(lambda datetime: datetime.month)"
   ]
  },
  {
   "cell_type": "code",
   "execution_count": 7,
   "id": "4925e3fb-73ba-473b-bc0c-621438cc8549",
   "metadata": {},
   "outputs": [],
   "source": [
    "df.to_csv('space_mission.csv')"
   ]
  }
 ],
 "metadata": {
  "kernelspec": {
   "display_name": "Python 3 (ipykernel)",
   "language": "python",
   "name": "python3"
  },
  "language_info": {
   "codemirror_mode": {
    "name": "ipython",
    "version": 3
   },
   "file_extension": ".py",
   "mimetype": "text/x-python",
   "name": "python",
   "nbconvert_exporter": "python",
   "pygments_lexer": "ipython3",
   "version": "3.10.9"
  }
 },
 "nbformat": 4,
 "nbformat_minor": 5
}
